{
 "cells": [
  {
   "cell_type": "markdown",
   "metadata": {},
   "source": [
    "**We filter and analyze our datasets based on the following critera:**\n",
    "\n",
    "- we have meta information about the ticker\n",
    "- we limit our analysis to stocks in euro\n",
    "- we focus on the close market value\n",
    "    - *once analysts process events*\n",
    "\n"
   ]
  },
  {
   "cell_type": "code",
   "execution_count": null,
   "metadata": {
    "autoscroll": false,
    "collapsed": false,
    "ein.hycell": false,
    "ein.tags": "worksheet-0",
    "jupyter": {
     "outputs_hidden": false
    },
    "slideshow": {
     "slide_type": "-"
    }
   },
   "outputs": [],
   "source": [
    "import findspark\n",
    "findspark.init()"
   ]
  },
  {
   "cell_type": "code",
   "execution_count": 2,
   "metadata": {
    "autoscroll": false,
    "collapsed": false,
    "ein.hycell": false,
    "ein.tags": "worksheet-0",
    "jupyter": {
     "outputs_hidden": false
    },
    "slideshow": {
     "slide_type": "-"
    }
   },
   "outputs": [],
   "source": [
    "import pyspark.sql.functions as F\n",
    "\n",
    "from pyspark.sql import SparkSession"
   ]
  },
  {
   "cell_type": "code",
   "execution_count": 3,
   "metadata": {
    "autoscroll": false,
    "collapsed": false,
    "ein.hycell": false,
    "ein.tags": "worksheet-0",
    "jupyter": {
     "outputs_hidden": false
    },
    "slideshow": {
     "slide_type": "-"
    }
   },
   "outputs": [],
   "source": [
    "session = (SparkSession\n",
    "           .builder\n",
    "           .master('local[*]')\n",
    "           .appName('analysis')\n",
    "           .config('spark.driver.memory', '12g')\n",
    "           .config('spark.executor.memory', '12g')\n",
    "           .config('spark.driver.maxResultSize', '12g')\n",
    "           .getOrCreate())"
   ]
  },
  {
   "cell_type": "markdown",
   "metadata": {},
   "source": [
    "# Extras"
   ]
  },
  {
   "cell_type": "code",
   "execution_count": 4,
   "metadata": {
    "autoscroll": false,
    "collapsed": false,
    "ein.hycell": false,
    "ein.tags": "worksheet-0",
    "jupyter": {
     "outputs_hidden": false
    },
    "slideshow": {
     "slide_type": "-"
    }
   },
   "outputs": [
    {
     "name": "stdout",
     "output_type": "stream",
     "text": [
      "26969\n",
      "+-------+--------------------+--------------+--------+\n",
      "| ticker|                name|       country|category|\n",
      "+-------+--------------------+--------------+--------+\n",
      "| 0BN.BE|HABIT RESTAURANT....|       Germany|    null|\n",
      "| 0O2W.L| GFT Technologies SE|United Kingdom|    null|\n",
      "|  13J.F|Jinmao (China) Ho...|        France|    null|\n",
      "| 1TT.BE|   FACTOR THERAPEUT.|       Germany|    null|\n",
      "|  233.F|Springland Intern...|        France|    null|\n",
      "|2CDA.BE|CONTR.VUEL.CO. AD...|       Germany|    null|\n",
      "| 3NEN.F|Brisio Innovation...|        France|    null|\n",
      "| 44C.SG|Civeo Corp (Canad...|       Germany|    null|\n",
      "|48CA.DU|   CAIXABANK S.A. EO|       Germany|    null|\n",
      "| 4FO.MU|INDS PENOLES S.A....|       Germany|    null|\n",
      "| 4HP.DU|ISETAN MITSUKOSHI...|       Germany|    null|\n",
      "|  51S.F|Cynata Therapeuti...|        France|    null|\n",
      "| 5CF.SG|Calfrac Well Serv...|       Germany|    null|\n",
      "| 5IX.BE|INTERXION HLDG NV...|       Germany|    null|\n",
      "|5N91.BE|AGUIA RES LTD AD-,20|       Germany|    null|\n",
      "|  6GX.F|Nevada Zinc Corpo...|        France|    null|\n",
      "|7CB1.SG|Cleveland BioLabs...|       Germany|    null|\n",
      "|  7PZ.F|Powszechny Zaklad...|        France|    null|\n",
      "| 94A.SG|Applied Graphene ...|       Germany|    null|\n",
      "| 94C.MU|  CGN POWER CO.LTD H|       Germany|    null|\n",
      "+-------+--------------------+--------------+--------+\n",
      "only showing top 20 rows\n",
      "\n"
     ]
    }
   ],
   "source": [
    "extras = (session.read\n",
    "          .csv('../datasets/extras.csv.gz', header=True, inferSchema=True)\n",
    "          .filter('currency == \"EUR\"').dropDuplicates(['ticker'])\n",
    "          .select('ticker', 'name', 'country', 'category name')\n",
    "          .withColumnRenamed('category name', 'category')\n",
    "          .cache())\n",
    "\n",
    "print(extras.count())\n",
    "\n",
    "extras.show()"
   ]
  },
  {
   "cell_type": "code",
   "execution_count": 5,
   "metadata": {},
   "outputs": [
    {
     "name": "stdout",
     "output_type": "stream",
     "text": [
      "+-------+------------------+--------------------+--------------+--------------------+\n",
      "|summary|            ticker|                name|       country|            category|\n",
      "+-------+------------------+--------------------+--------------+--------------------+\n",
      "|  count|             26969|               26836|         26767|                5091|\n",
      "|   mean|236.97560975609755|                null|          null|                null|\n",
      "| stddev| 194.2619993468715|                null|          null|                null|\n",
      "|    min|           013A.BE|\"\"\"Surgutneftegas...|       Austria|Accident & Health...|\n",
      "|    25%|             109.0|                null|          null|                null|\n",
      "|    50%|             210.0|                null|          null|                null|\n",
      "|    75%|             304.0|                null|          null|                null|\n",
      "|    max|           ZZMS.SG|üstra Hannoversch...|United Kingdom|Wireless Communic...|\n",
      "+-------+------------------+--------------------+--------------+--------------------+\n",
      "\n"
     ]
    }
   ],
   "source": [
    "extras.summary().show()"
   ]
  },
  {
   "cell_type": "code",
   "execution_count": 6,
   "metadata": {},
   "outputs": [
    {
     "name": "stdout",
     "output_type": "stream",
     "text": [
      "+--------------+-----+\n",
      "|       country|count|\n",
      "+--------------+-----+\n",
      "|       Germany|16608|\n",
      "|        France| 8665|\n",
      "|         Italy|  394|\n",
      "|United Kingdom|  239|\n",
      "|          null|  202|\n",
      "|        Greece|  173|\n",
      "|         Spain|  147|\n",
      "|       Belgium|  136|\n",
      "|       Finland|  106|\n",
      "|   Netherlands|   95|\n",
      "+--------------+-----+\n",
      "\n"
     ]
    }
   ],
   "source": [
    "extras.groupBy('country').count().sort('count', ascending=False).limit(10).show()"
   ]
  },
  {
   "cell_type": "code",
   "execution_count": 7,
   "metadata": {},
   "outputs": [
    {
     "name": "stdout",
     "output_type": "stream",
     "text": [
      "+--------------------+-----+\n",
      "|            category|count|\n",
      "+--------------------+-----+\n",
      "|                null|21878|\n",
      "|Diversified Machi...|  304|\n",
      "|  Money Center Banks|  224|\n",
      "|Wireless Communic...|  190|\n",
      "|    Asset Management|  158|\n",
      "|       Biotechnology|  158|\n",
      "|Diversified Utili...|  150|\n",
      "|Technical & Syste...|  140|\n",
      "|Information Techn...|  129|\n",
      "|   Business Services|  120|\n",
      "+--------------------+-----+\n",
      "\n"
     ]
    }
   ],
   "source": [
    "extras.groupBy('category').count().sort('count', ascending=False).limit(10).show()"
   ]
  },
  {
   "cell_type": "code",
   "execution_count": 8,
   "metadata": {},
   "outputs": [],
   "source": [
    "extras.toPandas().to_csv('../datasets/extras_eur.csv.gz', index=False)"
   ]
  },
  {
   "cell_type": "markdown",
   "metadata": {},
   "source": [
    "# Splits"
   ]
  },
  {
   "cell_type": "code",
   "execution_count": 20,
   "metadata": {},
   "outputs": [
    {
     "name": "stdout",
     "output_type": "stream",
     "text": [
      "1995\n",
      "+-------+----------+------------------+\n",
      "| ticker|  unixtime|             ratio|\n",
      "+-------+----------+------------------+\n",
      "|  1WR.F|1409176800|               2.0|\n",
      "| S7F1.F|1409608800|               5.0|\n",
      "|UCA1.MU|1409781600|               0.1|\n",
      "|UCA1.DU|1409781600|               0.1|\n",
      "|UCA1.BE|1409781600|               0.1|\n",
      "| UCA1.F|1409781600|               0.1|\n",
      "|UCA1.HM|1409781600|               0.1|\n",
      "| 3U6.BE|1410127200|               1.5|\n",
      "|  3U6.F|1410127200|               1.5|\n",
      "|  CH5.F|1410213600|               1.5|\n",
      "|KE0A.BE|1410386400|               4.0|\n",
      "|  VGR.F|1410386400|               1.0|\n",
      "| FII.PA|1410472800|               5.0|\n",
      "|KE0A.BE|1410472800|               4.0|\n",
      "| HIN.BE|1410472800|             0.125|\n",
      "|  LI3.F|1410472800|               5.0|\n",
      "| LI3.SG|1410472800|               5.0|\n",
      "| HIN.MU|1410472800|             0.125|\n",
      "|  HIN.F|1410472800|             0.125|\n",
      "|L1OA.DE|1411336800|0.3333333333333333|\n",
      "+-------+----------+------------------+\n",
      "only showing top 20 rows\n",
      "\n"
     ]
    }
   ],
   "source": [
    "splits = (session\n",
    "          .read.csv('../datasets/splits.csv.gz', header=True, inferSchema=True)\n",
    "          .withColumn('ratio', F.col('numerator')/F.col('denominator'))\n",
    "          .withColumn('dateonly', F.from_unixtime('date', 'yyyy-MM-dd'))\n",
    "          .withColumn('unixtime', F.unix_timestamp('dateonly', 'yyyy-MM-dd'))\n",
    "          .select('unixtime', 'ticker', 'ratio')\n",
    "          .join(extras, 'ticker', 'leftsemi')\n",
    "          .sort('unixtime')\n",
    "          .cache())\n",
    "\n",
    "print(splits.count())\n",
    "\n",
    "splits.show()"
   ]
  },
  {
   "cell_type": "code",
   "execution_count": 21,
   "metadata": {},
   "outputs": [
    {
     "name": "stdout",
     "output_type": "stream",
     "text": [
      "root\n",
      " |-- ticker: string (nullable = true)\n",
      " |-- unixtime: long (nullable = true)\n",
      " |-- ratio: double (nullable = true)\n",
      "\n"
     ]
    }
   ],
   "source": [
    "splits.printSchema()"
   ]
  },
  {
   "cell_type": "code",
   "execution_count": 22,
   "metadata": {},
   "outputs": [
    {
     "data": {
      "text/html": [
       "<div>\n",
       "<style scoped>\n",
       "    .dataframe tbody tr th:only-of-type {\n",
       "        vertical-align: middle;\n",
       "    }\n",
       "\n",
       "    .dataframe tbody tr th {\n",
       "        vertical-align: top;\n",
       "    }\n",
       "\n",
       "    .dataframe thead th {\n",
       "        text-align: right;\n",
       "    }\n",
       "</style>\n",
       "<table border=\"1\" class=\"dataframe\">\n",
       "  <thead>\n",
       "    <tr style=\"text-align: right;\">\n",
       "      <th></th>\n",
       "      <th>summary</th>\n",
       "      <th>ticker</th>\n",
       "      <th>unixtime</th>\n",
       "      <th>ratio</th>\n",
       "    </tr>\n",
       "  </thead>\n",
       "  <tbody>\n",
       "    <tr>\n",
       "      <td>0</td>\n",
       "      <td>count</td>\n",
       "      <td>1995</td>\n",
       "      <td>1995</td>\n",
       "      <td>1995</td>\n",
       "    </tr>\n",
       "    <tr>\n",
       "      <td>1</td>\n",
       "      <td>mean</td>\n",
       "      <td>None</td>\n",
       "      <td>1.4854167193984962E9</td>\n",
       "      <td>54.266863869879785</td>\n",
       "    </tr>\n",
       "    <tr>\n",
       "      <td>2</td>\n",
       "      <td>stddev</td>\n",
       "      <td>None</td>\n",
       "      <td>4.418853510617533E7</td>\n",
       "      <td>2239.2273773890897</td>\n",
       "    </tr>\n",
       "    <tr>\n",
       "      <td>3</td>\n",
       "      <td>min</td>\n",
       "      <td>01T.DU</td>\n",
       "      <td>1409176800</td>\n",
       "      <td>0.0</td>\n",
       "    </tr>\n",
       "    <tr>\n",
       "      <td>4</td>\n",
       "      <td>25%</td>\n",
       "      <td>None</td>\n",
       "      <td>1442527200</td>\n",
       "      <td>1.0</td>\n",
       "    </tr>\n",
       "    <tr>\n",
       "      <td>5</td>\n",
       "      <td>50%</td>\n",
       "      <td>None</td>\n",
       "      <td>1493848800</td>\n",
       "      <td>1.3</td>\n",
       "    </tr>\n",
       "    <tr>\n",
       "      <td>6</td>\n",
       "      <td>75%</td>\n",
       "      <td>None</td>\n",
       "      <td>1521068400</td>\n",
       "      <td>2.0</td>\n",
       "    </tr>\n",
       "    <tr>\n",
       "      <td>7</td>\n",
       "      <td>max</td>\n",
       "      <td>ZU1.F</td>\n",
       "      <td>1566252000</td>\n",
       "      <td>100000.0</td>\n",
       "    </tr>\n",
       "  </tbody>\n",
       "</table>\n",
       "</div>"
      ],
      "text/plain": [
       "  summary  ticker              unixtime               ratio\n",
       "0   count    1995                  1995                1995\n",
       "1    mean    None  1.4854167193984962E9  54.266863869879785\n",
       "2  stddev    None   4.418853510617533E7  2239.2273773890897\n",
       "3     min  01T.DU            1409176800                 0.0\n",
       "4     25%    None            1442527200                 1.0\n",
       "5     50%    None            1493848800                 1.3\n",
       "6     75%    None            1521068400                 2.0\n",
       "7     max   ZU1.F            1566252000            100000.0"
      ]
     },
     "execution_count": 22,
     "metadata": {},
     "output_type": "execute_result"
    }
   ],
   "source": [
    "splits.summary().toPandas()"
   ]
  },
  {
   "cell_type": "code",
   "execution_count": 23,
   "metadata": {},
   "outputs": [],
   "source": [
    "splits.toPandas().to_csv('../datasets/splits_eur.csv.gz', index=False)"
   ]
  },
  {
   "cell_type": "markdown",
   "metadata": {},
   "source": [
    "# Dividends"
   ]
  },
  {
   "cell_type": "code",
   "execution_count": 13,
   "metadata": {},
   "outputs": [
    {
     "name": "stdout",
     "output_type": "stream",
     "text": [
      "13950\n"
     ]
    },
    {
     "data": {
      "text/html": [
       "<div>\n",
       "<style scoped>\n",
       "    .dataframe tbody tr th:only-of-type {\n",
       "        vertical-align: middle;\n",
       "    }\n",
       "\n",
       "    .dataframe tbody tr th {\n",
       "        vertical-align: top;\n",
       "    }\n",
       "\n",
       "    .dataframe thead th {\n",
       "        text-align: right;\n",
       "    }\n",
       "</style>\n",
       "<table border=\"1\" class=\"dataframe\">\n",
       "  <thead>\n",
       "    <tr style=\"text-align: right;\">\n",
       "      <th></th>\n",
       "      <th>ticker</th>\n",
       "      <th>unixtime</th>\n",
       "      <th>amount</th>\n",
       "    </tr>\n",
       "  </thead>\n",
       "  <tbody>\n",
       "    <tr>\n",
       "      <td>0</td>\n",
       "      <td>ASF.F</td>\n",
       "      <td>1409176800</td>\n",
       "      <td>0.19</td>\n",
       "    </tr>\n",
       "    <tr>\n",
       "      <td>1</td>\n",
       "      <td>ASF.BE</td>\n",
       "      <td>1409176800</td>\n",
       "      <td>0.19</td>\n",
       "    </tr>\n",
       "    <tr>\n",
       "      <td>2</td>\n",
       "      <td>BL8.SG</td>\n",
       "      <td>1409176800</td>\n",
       "      <td>0.13</td>\n",
       "    </tr>\n",
       "    <tr>\n",
       "      <td>3</td>\n",
       "      <td>BL8.DU</td>\n",
       "      <td>1409176800</td>\n",
       "      <td>0.13</td>\n",
       "    </tr>\n",
       "    <tr>\n",
       "      <td>4</td>\n",
       "      <td>BL8.BE</td>\n",
       "      <td>1409176800</td>\n",
       "      <td>0.13</td>\n",
       "    </tr>\n",
       "  </tbody>\n",
       "</table>\n",
       "</div>"
      ],
      "text/plain": [
       "   ticker    unixtime  amount\n",
       "0   ASF.F  1409176800    0.19\n",
       "1  ASF.BE  1409176800    0.19\n",
       "2  BL8.SG  1409176800    0.13\n",
       "3  BL8.DU  1409176800    0.13\n",
       "4  BL8.BE  1409176800    0.13"
      ]
     },
     "execution_count": 13,
     "metadata": {},
     "output_type": "execute_result"
    }
   ],
   "source": [
    "divs = (session\n",
    "        .read.csv('../datasets/dividends.csv.gz', header=True, inferSchema=True)\n",
    "        .withColumn('dateonly', F.from_unixtime('date', 'yyyy-MM-dd'))\n",
    "        .withColumn('unixtime', F.unix_timestamp('dateonly', 'yyyy-MM-dd'))\n",
    "        .select('unixtime', 'ticker', 'amount')\n",
    "        .join(extras, 'ticker', 'leftsemi')\n",
    "        .sort('unixtime')\n",
    "        .cache())\n",
    "\n",
    "print(divs.count())\n",
    "\n",
    "divs.limit(5).toPandas()"
   ]
  },
  {
   "cell_type": "code",
   "execution_count": 14,
   "metadata": {},
   "outputs": [
    {
     "name": "stdout",
     "output_type": "stream",
     "text": [
      "root\n",
      " |-- ticker: string (nullable = true)\n",
      " |-- unixtime: long (nullable = true)\n",
      " |-- amount: double (nullable = true)\n",
      "\n"
     ]
    }
   ],
   "source": [
    "divs.printSchema()"
   ]
  },
  {
   "cell_type": "code",
   "execution_count": 15,
   "metadata": {},
   "outputs": [
    {
     "data": {
      "text/html": [
       "<div>\n",
       "<style scoped>\n",
       "    .dataframe tbody tr th:only-of-type {\n",
       "        vertical-align: middle;\n",
       "    }\n",
       "\n",
       "    .dataframe tbody tr th {\n",
       "        vertical-align: top;\n",
       "    }\n",
       "\n",
       "    .dataframe thead th {\n",
       "        text-align: right;\n",
       "    }\n",
       "</style>\n",
       "<table border=\"1\" class=\"dataframe\">\n",
       "  <thead>\n",
       "    <tr style=\"text-align: right;\">\n",
       "      <th></th>\n",
       "      <th>summary</th>\n",
       "      <th>ticker</th>\n",
       "      <th>unixtime</th>\n",
       "      <th>amount</th>\n",
       "    </tr>\n",
       "  </thead>\n",
       "  <tbody>\n",
       "    <tr>\n",
       "      <td>0</td>\n",
       "      <td>count</td>\n",
       "      <td>13950</td>\n",
       "      <td>13950</td>\n",
       "      <td>13950</td>\n",
       "    </tr>\n",
       "    <tr>\n",
       "      <td>1</td>\n",
       "      <td>mean</td>\n",
       "      <td>None</td>\n",
       "      <td>1.490413743483871E9</td>\n",
       "      <td>8.299220277491038</td>\n",
       "    </tr>\n",
       "    <tr>\n",
       "      <td>2</td>\n",
       "      <td>stddev</td>\n",
       "      <td>None</td>\n",
       "      <td>4.58939628144985E7</td>\n",
       "      <td>42.5627935860989</td>\n",
       "    </tr>\n",
       "    <tr>\n",
       "      <td>3</td>\n",
       "      <td>min</td>\n",
       "      <td>01T.DU</td>\n",
       "      <td>1409176800</td>\n",
       "      <td>0.0</td>\n",
       "    </tr>\n",
       "    <tr>\n",
       "      <td>4</td>\n",
       "      <td>25%</td>\n",
       "      <td>None</td>\n",
       "      <td>1450652400</td>\n",
       "      <td>0.132</td>\n",
       "    </tr>\n",
       "    <tr>\n",
       "      <td>5</td>\n",
       "      <td>50%</td>\n",
       "      <td>None</td>\n",
       "      <td>1491516000</td>\n",
       "      <td>0.353979</td>\n",
       "    </tr>\n",
       "    <tr>\n",
       "      <td>6</td>\n",
       "      <td>75%</td>\n",
       "      <td>None</td>\n",
       "      <td>1529013600</td>\n",
       "      <td>3.0</td>\n",
       "    </tr>\n",
       "    <tr>\n",
       "      <td>7</td>\n",
       "      <td>max</td>\n",
       "      <td>ZU1.F</td>\n",
       "      <td>1566856800</td>\n",
       "      <td>2225.0</td>\n",
       "    </tr>\n",
       "  </tbody>\n",
       "</table>\n",
       "</div>"
      ],
      "text/plain": [
       "  summary  ticker             unixtime             amount\n",
       "0   count   13950                13950              13950\n",
       "1    mean    None  1.490413743483871E9  8.299220277491038\n",
       "2  stddev    None   4.58939628144985E7   42.5627935860989\n",
       "3     min  01T.DU           1409176800                0.0\n",
       "4     25%    None           1450652400              0.132\n",
       "5     50%    None           1491516000           0.353979\n",
       "6     75%    None           1529013600                3.0\n",
       "7     max   ZU1.F           1566856800             2225.0"
      ]
     },
     "execution_count": 15,
     "metadata": {},
     "output_type": "execute_result"
    }
   ],
   "source": [
    "divs.summary().toPandas()"
   ]
  },
  {
   "cell_type": "code",
   "execution_count": 16,
   "metadata": {},
   "outputs": [],
   "source": [
    "divs.toPandas().to_csv('../datasets/dividends_eur.csv.gz', index=False)"
   ]
  },
  {
   "cell_type": "markdown",
   "metadata": {},
   "source": [
    "# Quotes"
   ]
  },
  {
   "cell_type": "code",
   "execution_count": 17,
   "metadata": {},
   "outputs": [
    {
     "name": "stdout",
     "output_type": "stream",
     "text": [
      "1960393\n",
      "+-------+----------+------------------+\n",
      "| ticker|  unixtime|             close|\n",
      "+-------+----------+------------------+\n",
      "|  MT.AS|1409176800|22.260799407958984|\n",
      "|BAYA.DE|1409176800|25.512500762939453|\n",
      "| AZM.MI|1409176800|18.391599655151367|\n",
      "| AGN.AS|1409176800|  5.96999979019165|\n",
      "|BKIA.MC|1409176800| 5.863999843597412|\n",
      "| SAB.MC|1409176800| 1.938789963722229|\n",
      "|  PUM.F|1409176800|18.737199783325195|\n",
      "| NEM.DE|1409176800| 6.581669807434082|\n",
      "| MDF.MC|1409176800|25.820199966430664|\n",
      "|  EZQ.F|1409176800|1.6920000314712524|\n",
      "| DIC.DE|1409176800| 6.800000190734863|\n",
      "| CPR.MI|1409176800|2.9049999713897705|\n",
      "| COK.DE|1409176800| 16.63249969482422|\n",
      "|BIO3.DE|1409176800|28.450000762939453|\n",
      "| V3S.DE|1409176800|  2.34975004196167|\n",
      "| UBK.HM|1409176800| 9.858050346374512|\n",
      "|SRT3.DU|1409176800|22.165000915527344|\n",
      "| NEM.DU|1409176800| 6.516670227050781|\n",
      "|  MUM.F|1409176800| 5.814620018005371|\n",
      "| MUM.DE|1409176800| 5.716060161590576|\n",
      "+-------+----------+------------------+\n",
      "only showing top 20 rows\n",
      "\n"
     ]
    }
   ],
   "source": [
    "quotes = (session\n",
    "        .read.csv('../datasets/quotes.csv.gz', header=True, inferSchema=True)\n",
    "        .withColumn('dateonly', F.from_unixtime('date', 'yyyy-MM-dd'))\n",
    "        .withColumn('unixtime', F.unix_timestamp('dateonly', 'yyyy-MM-dd'))\n",
    "        .select('unixtime', 'ticker', 'close')\n",
    "        .join(divs, 'ticker', 'leftsemi')\n",
    "        .sort('unixtime')\n",
    "        .cache())\n",
    "\n",
    "print(quotes.count())\n",
    "\n",
    "quotes.show()"
   ]
  },
  {
   "cell_type": "code",
   "execution_count": 18,
   "metadata": {},
   "outputs": [
    {
     "name": "stdout",
     "output_type": "stream",
     "text": [
      "+-------+-------+-------------------+--------------------+\n",
      "|summary| ticker|           unixtime|               close|\n",
      "+-------+-------+-------------------+--------------------+\n",
      "|  count|1960393|            1960393|             1949872|\n",
      "|   mean|   null|1.488570007751915E9|   27.45143757900416|\n",
      "| stddev|   null|4.547710065372337E7|  102.15297854231297|\n",
      "|    min| 01T.DU|         1409176800|9.999999747378752E-5|\n",
      "|    25%|   null|         1449010800|   5.960999965667725|\n",
      "|    50%|   null|         1488754800|   17.30500030517578|\n",
      "|    75%|   null|         1528063200|  31.170000076293945|\n",
      "|    max|  ZU1.F|         1566943200|   3925.699951171875|\n",
      "+-------+-------+-------------------+--------------------+\n",
      "\n"
     ]
    }
   ],
   "source": [
    "quotes.summary().show()"
   ]
  },
  {
   "cell_type": "code",
   "execution_count": 19,
   "metadata": {},
   "outputs": [],
   "source": [
    "quotes.toPandas().to_csv('../datasets/quotes_eur.csv.gz', index=False)"
   ]
  }
 ],
 "metadata": {
  "kernelspec": {
   "display_name": "Python 3",
   "language": "python",
   "name": "python3"
  },
  "language_info": {
   "codemirror_mode": {
    "name": "ipython",
    "version": 3
   },
   "file_extension": ".py",
   "mimetype": "text/x-python",
   "name": "python",
   "nbconvert_exporter": "python",
   "pygments_lexer": "ipython3",
   "version": "3.7.3"
  },
  "name": "analysis.ipynb"
 },
 "nbformat": 4,
 "nbformat_minor": 4
}
